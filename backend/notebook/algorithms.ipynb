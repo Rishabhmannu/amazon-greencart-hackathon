{
 "cells": [
  {
   "cell_type": "code",
   "execution_count": 1,
   "metadata": {},
   "outputs": [
    {
     "name": "stdout",
     "output_type": "stream",
     "text": [
      "hello world\n"
     ]
    }
   ],
   "source": [
    "print('hello world')"
   ]
  },
  {
   "cell_type": "code",
   "execution_count": 2,
   "metadata": {},
   "outputs": [
    {
     "data": {
      "text/plain": [
       "'/Users/rishabh/Downloads/Amazon-Hackon/greencart-hackathon/backend/notebook'"
      ]
     },
     "execution_count": 2,
     "metadata": {},
     "output_type": "execute_result"
    }
   ],
   "source": [
    "import os\n",
    "os.getcwd()"
   ]
  },
  {
   "cell_type": "code",
   "execution_count": 3,
   "metadata": {},
   "outputs": [
    {
     "data": {
      "text/plain": [
       "(8, 13)"
      ]
     },
     "execution_count": 3,
     "metadata": {},
     "output_type": "execute_result"
    }
   ],
   "source": [
    "import pandas as pd\n",
    "import numpy as np\n",
    "\n",
    "df=pd.read_csv('../../data/products.csv')\n",
    "df.shape"
   ]
  },
  {
   "cell_type": "code",
   "execution_count": 4,
   "metadata": {},
   "outputs": [
    {
     "data": {
      "text/html": [
       "<div>\n",
       "<style scoped>\n",
       "    .dataframe tbody tr th:only-of-type {\n",
       "        vertical-align: middle;\n",
       "    }\n",
       "\n",
       "    .dataframe tbody tr th {\n",
       "        vertical-align: top;\n",
       "    }\n",
       "\n",
       "    .dataframe thead th {\n",
       "        text-align: right;\n",
       "    }\n",
       "</style>\n",
       "<table border=\"1\" class=\"dataframe\">\n",
       "  <thead>\n",
       "    <tr style=\"text-align: right;\">\n",
       "      <th></th>\n",
       "      <th>product_id</th>\n",
       "      <th>product_name</th>\n",
       "      <th>category</th>\n",
       "      <th>price</th>\n",
       "      <th>image_url</th>\n",
       "      <th>manufacturing_emissions_gco2e</th>\n",
       "      <th>transport_distance_km</th>\n",
       "      <th>recyclability_percent</th>\n",
       "      <th>biodegradability_score</th>\n",
       "      <th>is_fair_trade</th>\n",
       "      <th>supply_chain_transparency_score</th>\n",
       "      <th>durability_rating</th>\n",
       "      <th>repairability_index</th>\n",
       "    </tr>\n",
       "  </thead>\n",
       "  <tbody>\n",
       "    <tr>\n",
       "      <th>0</th>\n",
       "      <td>1</td>\n",
       "      <td>Eco-Glass Water Bottle</td>\n",
       "      <td>Kitchen</td>\n",
       "      <td>24.99</td>\n",
       "      <td>https://i.imgur.com/example1.png</td>\n",
       "      <td>500</td>\n",
       "      <td>200</td>\n",
       "      <td>100</td>\n",
       "      <td>2</td>\n",
       "      <td>1</td>\n",
       "      <td>5</td>\n",
       "      <td>5</td>\n",
       "      <td>4</td>\n",
       "    </tr>\n",
       "    <tr>\n",
       "      <th>1</th>\n",
       "      <td>2</td>\n",
       "      <td>Cheap Plastic Bottle</td>\n",
       "      <td>Kitchen</td>\n",
       "      <td>1.99</td>\n",
       "      <td>https://i.imgur.com/example2.png</td>\n",
       "      <td>2500</td>\n",
       "      <td>5000</td>\n",
       "      <td>5</td>\n",
       "      <td>1</td>\n",
       "      <td>0</td>\n",
       "      <td>1</td>\n",
       "      <td>1</td>\n",
       "      <td>1</td>\n",
       "    </tr>\n",
       "    <tr>\n",
       "      <th>2</th>\n",
       "      <td>3</td>\n",
       "      <td>Organic Fair-Trade Coffee</td>\n",
       "      <td>Groceries</td>\n",
       "      <td>18.50</td>\n",
       "      <td>https://i.imgur.com/example3.png</td>\n",
       "      <td>300</td>\n",
       "      <td>8000</td>\n",
       "      <td>100</td>\n",
       "      <td>5</td>\n",
       "      <td>1</td>\n",
       "      <td>4</td>\n",
       "      <td>1</td>\n",
       "      <td>1</td>\n",
       "    </tr>\n",
       "    <tr>\n",
       "      <th>3</th>\n",
       "      <td>4</td>\n",
       "      <td>Fast-Fashion T-Shirt</td>\n",
       "      <td>Apparel</td>\n",
       "      <td>9.99</td>\n",
       "      <td>https://i.imgur.com/example4.png</td>\n",
       "      <td>6000</td>\n",
       "      <td>12000</td>\n",
       "      <td>10</td>\n",
       "      <td>2</td>\n",
       "      <td>0</td>\n",
       "      <td>2</td>\n",
       "      <td>2</td>\n",
       "      <td>1</td>\n",
       "    </tr>\n",
       "    <tr>\n",
       "      <th>4</th>\n",
       "      <td>5</td>\n",
       "      <td>Durable Canvas Backpack</td>\n",
       "      <td>Accessories</td>\n",
       "      <td>49.99</td>\n",
       "      <td>https://i.imgur.com/example5.png</td>\n",
       "      <td>3000</td>\n",
       "      <td>1500</td>\n",
       "      <td>60</td>\n",
       "      <td>3</td>\n",
       "      <td>1</td>\n",
       "      <td>3</td>\n",
       "      <td>5</td>\n",
       "      <td>3</td>\n",
       "    </tr>\n",
       "    <tr>\n",
       "      <th>5</th>\n",
       "      <td>6</td>\n",
       "      <td>Local Artisan Soap</td>\n",
       "      <td>Beauty</td>\n",
       "      <td>12.00</td>\n",
       "      <td>https://i.imgur.com/example6.png</td>\n",
       "      <td>150</td>\n",
       "      <td>50</td>\n",
       "      <td>100</td>\n",
       "      <td>5</td>\n",
       "      <td>1</td>\n",
       "      <td>5</td>\n",
       "      <td>2</td>\n",
       "      <td>1</td>\n",
       "    </tr>\n",
       "    <tr>\n",
       "      <th>6</th>\n",
       "      <td>7</td>\n",
       "      <td>Imported Smartphone</td>\n",
       "      <td>Electronics</td>\n",
       "      <td>899.00</td>\n",
       "      <td>https://i.imgur.com/example7.png</td>\n",
       "      <td>50000</td>\n",
       "      <td>15000</td>\n",
       "      <td>15</td>\n",
       "      <td>1</td>\n",
       "      <td>0</td>\n",
       "      <td>2</td>\n",
       "      <td>3</td>\n",
       "      <td>2</td>\n",
       "    </tr>\n",
       "    <tr>\n",
       "      <th>7</th>\n",
       "      <td>8</td>\n",
       "      <td>Recycled Paper Journal</td>\n",
       "      <td>Office</td>\n",
       "      <td>15.99</td>\n",
       "      <td>https://i.imgur.com/example8.png</td>\n",
       "      <td>400</td>\n",
       "      <td>500</td>\n",
       "      <td>100</td>\n",
       "      <td>5</td>\n",
       "      <td>1</td>\n",
       "      <td>4</td>\n",
       "      <td>3</td>\n",
       "      <td>1</td>\n",
       "    </tr>\n",
       "  </tbody>\n",
       "</table>\n",
       "</div>"
      ],
      "text/plain": [
       "   product_id               product_name     category   price  \\\n",
       "0           1     Eco-Glass Water Bottle      Kitchen   24.99   \n",
       "1           2       Cheap Plastic Bottle      Kitchen    1.99   \n",
       "2           3  Organic Fair-Trade Coffee    Groceries   18.50   \n",
       "3           4       Fast-Fashion T-Shirt      Apparel    9.99   \n",
       "4           5    Durable Canvas Backpack  Accessories   49.99   \n",
       "5           6         Local Artisan Soap       Beauty   12.00   \n",
       "6           7        Imported Smartphone  Electronics  899.00   \n",
       "7           8     Recycled Paper Journal       Office   15.99   \n",
       "\n",
       "                          image_url  manufacturing_emissions_gco2e  \\\n",
       "0  https://i.imgur.com/example1.png                            500   \n",
       "1  https://i.imgur.com/example2.png                           2500   \n",
       "2  https://i.imgur.com/example3.png                            300   \n",
       "3  https://i.imgur.com/example4.png                           6000   \n",
       "4  https://i.imgur.com/example5.png                           3000   \n",
       "5  https://i.imgur.com/example6.png                            150   \n",
       "6  https://i.imgur.com/example7.png                          50000   \n",
       "7  https://i.imgur.com/example8.png                            400   \n",
       "\n",
       "   transport_distance_km  recyclability_percent  biodegradability_score  \\\n",
       "0                    200                    100                       2   \n",
       "1                   5000                      5                       1   \n",
       "2                   8000                    100                       5   \n",
       "3                  12000                     10                       2   \n",
       "4                   1500                     60                       3   \n",
       "5                     50                    100                       5   \n",
       "6                  15000                     15                       1   \n",
       "7                    500                    100                       5   \n",
       "\n",
       "   is_fair_trade  supply_chain_transparency_score  durability_rating  \\\n",
       "0              1                                5                  5   \n",
       "1              0                                1                  1   \n",
       "2              1                                4                  1   \n",
       "3              0                                2                  2   \n",
       "4              1                                3                  5   \n",
       "5              1                                5                  2   \n",
       "6              0                                2                  3   \n",
       "7              1                                4                  3   \n",
       "\n",
       "   repairability_index  \n",
       "0                    4  \n",
       "1                    1  \n",
       "2                    1  \n",
       "3                    1  \n",
       "4                    3  \n",
       "5                    1  \n",
       "6                    2  \n",
       "7                    1  "
      ]
     },
     "execution_count": 4,
     "metadata": {},
     "output_type": "execute_result"
    }
   ],
   "source": [
    "df"
   ]
  },
  {
   "cell_type": "code",
   "execution_count": 5,
   "metadata": {},
   "outputs": [
    {
     "name": "stdout",
     "output_type": "stream",
     "text": [
      "<class 'pandas.core.frame.DataFrame'>\n",
      "RangeIndex: 8 entries, 0 to 7\n",
      "Data columns (total 13 columns):\n",
      " #   Column                           Non-Null Count  Dtype  \n",
      "---  ------                           --------------  -----  \n",
      " 0   product_id                       8 non-null      int64  \n",
      " 1   product_name                     8 non-null      object \n",
      " 2   category                         8 non-null      object \n",
      " 3   price                            8 non-null      float64\n",
      " 4   image_url                        8 non-null      object \n",
      " 5   manufacturing_emissions_gco2e    8 non-null      int64  \n",
      " 6   transport_distance_km            8 non-null      int64  \n",
      " 7   recyclability_percent            8 non-null      int64  \n",
      " 8   biodegradability_score           8 non-null      int64  \n",
      " 9   is_fair_trade                    8 non-null      int64  \n",
      " 10  supply_chain_transparency_score  8 non-null      int64  \n",
      " 11  durability_rating                8 non-null      int64  \n",
      " 12  repairability_index              8 non-null      int64  \n",
      "dtypes: float64(1), int64(9), object(3)\n",
      "memory usage: 960.0+ bytes\n"
     ]
    }
   ],
   "source": [
    "df.info()"
   ]
  },
  {
   "cell_type": "code",
   "execution_count": 6,
   "metadata": {},
   "outputs": [
    {
     "data": {
      "text/plain": [
       "(200, 14)"
      ]
     },
     "execution_count": 6,
     "metadata": {},
     "output_type": "execute_result"
    }
   ],
   "source": [
    "df2=pd.read_csv('../../data/products_large.csv')\n",
    "df2.shape"
   ]
  },
  {
   "cell_type": "code",
   "execution_count": 7,
   "metadata": {},
   "outputs": [
    {
     "data": {
      "text/html": [
       "<div>\n",
       "<style scoped>\n",
       "    .dataframe tbody tr th:only-of-type {\n",
       "        vertical-align: middle;\n",
       "    }\n",
       "\n",
       "    .dataframe tbody tr th {\n",
       "        vertical-align: top;\n",
       "    }\n",
       "\n",
       "    .dataframe thead th {\n",
       "        text-align: right;\n",
       "    }\n",
       "</style>\n",
       "<table border=\"1\" class=\"dataframe\">\n",
       "  <thead>\n",
       "    <tr style=\"text-align: right;\">\n",
       "      <th></th>\n",
       "      <th>product_id</th>\n",
       "      <th>product_name</th>\n",
       "      <th>category</th>\n",
       "      <th>price</th>\n",
       "      <th>image_url</th>\n",
       "      <th>manufacturing_emissions_gco2e</th>\n",
       "      <th>transport_distance_km</th>\n",
       "      <th>recyclability_percent</th>\n",
       "      <th>biodegradability_score</th>\n",
       "      <th>is_fair_trade</th>\n",
       "      <th>supply_chain_transparency_score</th>\n",
       "      <th>durability_rating</th>\n",
       "      <th>repairability_index</th>\n",
       "      <th>earth_score</th>\n",
       "    </tr>\n",
       "  </thead>\n",
       "  <tbody>\n",
       "    <tr>\n",
       "      <th>0</th>\n",
       "      <td>1</td>\n",
       "      <td>Home Facilitate Frictionless Models Kit</td>\n",
       "      <td>home</td>\n",
       "      <td>84.63</td>\n",
       "      <td>https://i.imgur.com/example6.png</td>\n",
       "      <td>6008</td>\n",
       "      <td>10343</td>\n",
       "      <td>58</td>\n",
       "      <td>4</td>\n",
       "      <td>1</td>\n",
       "      <td>5</td>\n",
       "      <td>1</td>\n",
       "      <td>5</td>\n",
       "      <td>72</td>\n",
       "    </tr>\n",
       "    <tr>\n",
       "      <th>1</th>\n",
       "      <td>2</td>\n",
       "      <td>Office Visualize Innovative E-Commerce Wearable</td>\n",
       "      <td>home</td>\n",
       "      <td>97.68</td>\n",
       "      <td>https://i.imgur.com/example7.png</td>\n",
       "      <td>19596</td>\n",
       "      <td>12394</td>\n",
       "      <td>70</td>\n",
       "      <td>4</td>\n",
       "      <td>1</td>\n",
       "      <td>3</td>\n",
       "      <td>5</td>\n",
       "      <td>3</td>\n",
       "      <td>67</td>\n",
       "    </tr>\n",
       "    <tr>\n",
       "      <th>2</th>\n",
       "      <td>3</td>\n",
       "      <td>Electronics Cultivate Scalable Metrics Gadget</td>\n",
       "      <td>electronics</td>\n",
       "      <td>1086.58</td>\n",
       "      <td>https://i.imgur.com/example7.png</td>\n",
       "      <td>12159</td>\n",
       "      <td>7147</td>\n",
       "      <td>97</td>\n",
       "      <td>1</td>\n",
       "      <td>1</td>\n",
       "      <td>4</td>\n",
       "      <td>4</td>\n",
       "      <td>3</td>\n",
       "      <td>68</td>\n",
       "    </tr>\n",
       "    <tr>\n",
       "      <th>3</th>\n",
       "      <td>4</td>\n",
       "      <td>Beauty E-Enable World-Class Initiatives Kit</td>\n",
       "      <td>beauty</td>\n",
       "      <td>86.48</td>\n",
       "      <td>https://i.imgur.com/example7.png</td>\n",
       "      <td>13853</td>\n",
       "      <td>239</td>\n",
       "      <td>47</td>\n",
       "      <td>2</td>\n",
       "      <td>0</td>\n",
       "      <td>1</td>\n",
       "      <td>1</td>\n",
       "      <td>1</td>\n",
       "      <td>35</td>\n",
       "    </tr>\n",
       "    <tr>\n",
       "      <th>4</th>\n",
       "      <td>5</td>\n",
       "      <td>Electronics Grow Out-Of-The-Box Schemas Kit</td>\n",
       "      <td>electronics</td>\n",
       "      <td>757.61</td>\n",
       "      <td>https://i.imgur.com/example3.png</td>\n",
       "      <td>19668</td>\n",
       "      <td>1165</td>\n",
       "      <td>85</td>\n",
       "      <td>1</td>\n",
       "      <td>0</td>\n",
       "      <td>2</td>\n",
       "      <td>5</td>\n",
       "      <td>2</td>\n",
       "      <td>50</td>\n",
       "    </tr>\n",
       "  </tbody>\n",
       "</table>\n",
       "</div>"
      ],
      "text/plain": [
       "   product_id                                     product_name     category  \\\n",
       "0           1          Home Facilitate Frictionless Models Kit         home   \n",
       "1           2  Office Visualize Innovative E-Commerce Wearable         home   \n",
       "2           3    Electronics Cultivate Scalable Metrics Gadget  electronics   \n",
       "3           4      Beauty E-Enable World-Class Initiatives Kit       beauty   \n",
       "4           5      Electronics Grow Out-Of-The-Box Schemas Kit  electronics   \n",
       "\n",
       "     price                         image_url  manufacturing_emissions_gco2e  \\\n",
       "0    84.63  https://i.imgur.com/example6.png                           6008   \n",
       "1    97.68  https://i.imgur.com/example7.png                          19596   \n",
       "2  1086.58  https://i.imgur.com/example7.png                          12159   \n",
       "3    86.48  https://i.imgur.com/example7.png                          13853   \n",
       "4   757.61  https://i.imgur.com/example3.png                          19668   \n",
       "\n",
       "   transport_distance_km  recyclability_percent  biodegradability_score  \\\n",
       "0                  10343                     58                       4   \n",
       "1                  12394                     70                       4   \n",
       "2                   7147                     97                       1   \n",
       "3                    239                     47                       2   \n",
       "4                   1165                     85                       1   \n",
       "\n",
       "   is_fair_trade  supply_chain_transparency_score  durability_rating  \\\n",
       "0              1                                5                  1   \n",
       "1              1                                3                  5   \n",
       "2              1                                4                  4   \n",
       "3              0                                1                  1   \n",
       "4              0                                2                  5   \n",
       "\n",
       "   repairability_index  earth_score  \n",
       "0                    5           72  \n",
       "1                    3           67  \n",
       "2                    3           68  \n",
       "3                    1           35  \n",
       "4                    2           50  "
      ]
     },
     "execution_count": 7,
     "metadata": {},
     "output_type": "execute_result"
    }
   ],
   "source": [
    "df2.head()"
   ]
  },
  {
   "cell_type": "code",
   "execution_count": 8,
   "metadata": {},
   "outputs": [
    {
     "name": "stdout",
     "output_type": "stream",
     "text": [
      "<class 'pandas.core.frame.DataFrame'>\n",
      "RangeIndex: 200 entries, 0 to 199\n",
      "Data columns (total 14 columns):\n",
      " #   Column                           Non-Null Count  Dtype  \n",
      "---  ------                           --------------  -----  \n",
      " 0   product_id                       200 non-null    int64  \n",
      " 1   product_name                     200 non-null    object \n",
      " 2   category                         200 non-null    object \n",
      " 3   price                            200 non-null    float64\n",
      " 4   image_url                        200 non-null    object \n",
      " 5   manufacturing_emissions_gco2e    200 non-null    int64  \n",
      " 6   transport_distance_km            200 non-null    int64  \n",
      " 7   recyclability_percent            200 non-null    int64  \n",
      " 8   biodegradability_score           200 non-null    int64  \n",
      " 9   is_fair_trade                    200 non-null    int64  \n",
      " 10  supply_chain_transparency_score  200 non-null    int64  \n",
      " 11  durability_rating                200 non-null    int64  \n",
      " 12  repairability_index              200 non-null    int64  \n",
      " 13  earth_score                      200 non-null    int64  \n",
      "dtypes: float64(1), int64(10), object(3)\n",
      "memory usage: 22.0+ KB\n"
     ]
    }
   ],
   "source": [
    "df2.info()"
   ]
  },
  {
   "cell_type": "code",
   "execution_count": 9,
   "metadata": {},
   "outputs": [
    {
     "name": "stdout",
     "output_type": "stream",
     "text": [
      "<generator object <genexpr> at 0x109fdfd10>\n"
     ]
    }
   ],
   "source": [
    "print(\"earth_score\" in columns for columns in df2.columns)"
   ]
  },
  {
   "cell_type": "code",
   "execution_count": 10,
   "metadata": {},
   "outputs": [
    {
     "name": "stdout",
     "output_type": "stream",
     "text": [
      "earth_score\n"
     ]
    }
   ],
   "source": [
    "for column in df2.columns:\n",
    "    if \"earth_score\" in column:\n",
    "        print(column)"
   ]
  },
  {
   "cell_type": "code",
   "execution_count": 11,
   "metadata": {},
   "outputs": [
    {
     "data": {
      "text/plain": [
       "Index(['product_id', 'product_name', 'category', 'price', 'image_url',\n",
       "       'manufacturing_emissions_gco2e', 'transport_distance_km',\n",
       "       'recyclability_percent', 'biodegradability_score', 'is_fair_trade',\n",
       "       'supply_chain_transparency_score', 'durability_rating',\n",
       "       'repairability_index', 'earth_score'],\n",
       "      dtype='object')"
      ]
     },
     "execution_count": 11,
     "metadata": {},
     "output_type": "execute_result"
    }
   ],
   "source": [
    "df2.columns"
   ]
  },
  {
   "cell_type": "code",
   "execution_count": 12,
   "metadata": {},
   "outputs": [
    {
     "data": {
      "text/html": [
       "<div>\n",
       "<style scoped>\n",
       "    .dataframe tbody tr th:only-of-type {\n",
       "        vertical-align: middle;\n",
       "    }\n",
       "\n",
       "    .dataframe tbody tr th {\n",
       "        vertical-align: top;\n",
       "    }\n",
       "\n",
       "    .dataframe thead th {\n",
       "        text-align: right;\n",
       "    }\n",
       "</style>\n",
       "<table border=\"1\" class=\"dataframe\">\n",
       "  <thead>\n",
       "    <tr style=\"text-align: right;\">\n",
       "      <th></th>\n",
       "      <th>product_id</th>\n",
       "      <th>product_name</th>\n",
       "      <th>category</th>\n",
       "      <th>price</th>\n",
       "      <th>image_url</th>\n",
       "      <th>manufacturing_emissions_gco2e</th>\n",
       "      <th>transport_distance_km</th>\n",
       "      <th>recyclability_percent</th>\n",
       "      <th>biodegradability_score</th>\n",
       "      <th>is_fair_trade</th>\n",
       "      <th>supply_chain_transparency_score</th>\n",
       "      <th>durability_rating</th>\n",
       "      <th>repairability_index</th>\n",
       "      <th>earth_score</th>\n",
       "    </tr>\n",
       "  </thead>\n",
       "  <tbody>\n",
       "    <tr>\n",
       "      <th>0</th>\n",
       "      <td>1</td>\n",
       "      <td>Home Facilitate Frictionless Models Kit</td>\n",
       "      <td>home</td>\n",
       "      <td>84.63</td>\n",
       "      <td>https://i.imgur.com/example6.png</td>\n",
       "      <td>6008</td>\n",
       "      <td>10343</td>\n",
       "      <td>58</td>\n",
       "      <td>4</td>\n",
       "      <td>1</td>\n",
       "      <td>5</td>\n",
       "      <td>1</td>\n",
       "      <td>5</td>\n",
       "      <td>72</td>\n",
       "    </tr>\n",
       "    <tr>\n",
       "      <th>1</th>\n",
       "      <td>2</td>\n",
       "      <td>Office Visualize Innovative E-Commerce Wearable</td>\n",
       "      <td>home</td>\n",
       "      <td>97.68</td>\n",
       "      <td>https://i.imgur.com/example7.png</td>\n",
       "      <td>19596</td>\n",
       "      <td>12394</td>\n",
       "      <td>70</td>\n",
       "      <td>4</td>\n",
       "      <td>1</td>\n",
       "      <td>3</td>\n",
       "      <td>5</td>\n",
       "      <td>3</td>\n",
       "      <td>67</td>\n",
       "    </tr>\n",
       "    <tr>\n",
       "      <th>2</th>\n",
       "      <td>3</td>\n",
       "      <td>Electronics Cultivate Scalable Metrics Gadget</td>\n",
       "      <td>electronics</td>\n",
       "      <td>1086.58</td>\n",
       "      <td>https://i.imgur.com/example7.png</td>\n",
       "      <td>12159</td>\n",
       "      <td>7147</td>\n",
       "      <td>97</td>\n",
       "      <td>1</td>\n",
       "      <td>1</td>\n",
       "      <td>4</td>\n",
       "      <td>4</td>\n",
       "      <td>3</td>\n",
       "      <td>68</td>\n",
       "    </tr>\n",
       "    <tr>\n",
       "      <th>3</th>\n",
       "      <td>4</td>\n",
       "      <td>Beauty E-Enable World-Class Initiatives Kit</td>\n",
       "      <td>beauty</td>\n",
       "      <td>86.48</td>\n",
       "      <td>https://i.imgur.com/example7.png</td>\n",
       "      <td>13853</td>\n",
       "      <td>239</td>\n",
       "      <td>47</td>\n",
       "      <td>2</td>\n",
       "      <td>0</td>\n",
       "      <td>1</td>\n",
       "      <td>1</td>\n",
       "      <td>1</td>\n",
       "      <td>35</td>\n",
       "    </tr>\n",
       "    <tr>\n",
       "      <th>4</th>\n",
       "      <td>5</td>\n",
       "      <td>Electronics Grow Out-Of-The-Box Schemas Kit</td>\n",
       "      <td>electronics</td>\n",
       "      <td>757.61</td>\n",
       "      <td>https://i.imgur.com/example3.png</td>\n",
       "      <td>19668</td>\n",
       "      <td>1165</td>\n",
       "      <td>85</td>\n",
       "      <td>1</td>\n",
       "      <td>0</td>\n",
       "      <td>2</td>\n",
       "      <td>5</td>\n",
       "      <td>2</td>\n",
       "      <td>50</td>\n",
       "    </tr>\n",
       "  </tbody>\n",
       "</table>\n",
       "</div>"
      ],
      "text/plain": [
       "   product_id                                     product_name     category  \\\n",
       "0           1          Home Facilitate Frictionless Models Kit         home   \n",
       "1           2  Office Visualize Innovative E-Commerce Wearable         home   \n",
       "2           3    Electronics Cultivate Scalable Metrics Gadget  electronics   \n",
       "3           4      Beauty E-Enable World-Class Initiatives Kit       beauty   \n",
       "4           5      Electronics Grow Out-Of-The-Box Schemas Kit  electronics   \n",
       "\n",
       "     price                         image_url  manufacturing_emissions_gco2e  \\\n",
       "0    84.63  https://i.imgur.com/example6.png                           6008   \n",
       "1    97.68  https://i.imgur.com/example7.png                          19596   \n",
       "2  1086.58  https://i.imgur.com/example7.png                          12159   \n",
       "3    86.48  https://i.imgur.com/example7.png                          13853   \n",
       "4   757.61  https://i.imgur.com/example3.png                          19668   \n",
       "\n",
       "   transport_distance_km  recyclability_percent  biodegradability_score  \\\n",
       "0                  10343                     58                       4   \n",
       "1                  12394                     70                       4   \n",
       "2                   7147                     97                       1   \n",
       "3                    239                     47                       2   \n",
       "4                   1165                     85                       1   \n",
       "\n",
       "   is_fair_trade  supply_chain_transparency_score  durability_rating  \\\n",
       "0              1                                5                  1   \n",
       "1              1                                3                  5   \n",
       "2              1                                4                  4   \n",
       "3              0                                1                  1   \n",
       "4              0                                2                  5   \n",
       "\n",
       "   repairability_index  earth_score  \n",
       "0                    5           72  \n",
       "1                    3           67  \n",
       "2                    3           68  \n",
       "3                    1           35  \n",
       "4                    2           50  "
      ]
     },
     "execution_count": 12,
     "metadata": {},
     "output_type": "execute_result"
    }
   ],
   "source": [
    "df2.head()"
   ]
  },
  {
   "cell_type": "code",
   "execution_count": 13,
   "metadata": {},
   "outputs": [
    {
     "data": {
      "text/plain": [
       "biodegradability_score\n",
       "5    3\n",
       "2    2\n",
       "1    2\n",
       "3    1\n",
       "Name: count, dtype: int64"
      ]
     },
     "execution_count": 13,
     "metadata": {},
     "output_type": "execute_result"
    }
   ],
   "source": [
    "df['biodegradability_score'].value_counts()"
   ]
  },
  {
   "cell_type": "code",
   "execution_count": 14,
   "metadata": {},
   "outputs": [
    {
     "data": {
      "text/plain": [
       "repairability_index\n",
       "1    5\n",
       "4    1\n",
       "3    1\n",
       "2    1\n",
       "Name: count, dtype: int64"
      ]
     },
     "execution_count": 14,
     "metadata": {},
     "output_type": "execute_result"
    }
   ],
   "source": [
    "df['repairability_index'].value_counts()"
   ]
  },
  {
   "cell_type": "code",
   "execution_count": 15,
   "metadata": {},
   "outputs": [
    {
     "data": {
      "text/plain": [
       "category\n",
       "home           71\n",
       "kitchen        48\n",
       "electronics    33\n",
       "beauty         26\n",
       "clothing       22\n",
       "Name: count, dtype: int64"
      ]
     },
     "execution_count": 15,
     "metadata": {},
     "output_type": "execute_result"
    }
   ],
   "source": [
    "df2['category'].value_counts()"
   ]
  },
  {
   "cell_type": "code",
   "execution_count": null,
   "metadata": {},
   "outputs": [],
   "source": []
  }
 ],
 "metadata": {
  "kernelspec": {
   "display_name": "greencart_env",
   "language": "python",
   "name": "python3"
  },
  "language_info": {
   "codemirror_mode": {
    "name": "ipython",
    "version": 3
   },
   "file_extension": ".py",
   "mimetype": "text/x-python",
   "name": "python",
   "nbconvert_exporter": "python",
   "pygments_lexer": "ipython3",
   "version": "3.10.18"
  }
 },
 "nbformat": 4,
 "nbformat_minor": 2
}
